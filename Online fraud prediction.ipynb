{
 "cells": [
  {
   "cell_type": "markdown",
   "id": "df0988b0-c130-4150-88e4-7cac2dee50e5",
   "metadata": {},
   "source": [
    "### IMPORTING LIBRARIES"
   ]
  },
  {
   "cell_type": "code",
   "execution_count": 1,
   "id": "4ff31f55-79f5-4ae7-b105-a9e90bd88f1b",
   "metadata": {},
   "outputs": [],
   "source": [
    "import numpy as np\n",
    "import pandas as pd\n",
    "import matplotlib.pyplot as plt\n",
    "import seaborn as sns\n",
    "%matplotlib inline"
   ]
  },
  {
   "cell_type": "code",
   "execution_count": 2,
   "id": "3e57e6d6-9036-4f3d-85db-b0fe93ac9f55",
   "metadata": {},
   "outputs": [],
   "source": [
    "import warnings"
   ]
  },
  {
   "cell_type": "code",
   "execution_count": 3,
   "id": "82d1a89d-b64a-4630-8080-7fa5c4fbaccf",
   "metadata": {},
   "outputs": [],
   "source": [
    "warnings.filterwarnings('ignore')"
   ]
  },
  {
   "cell_type": "markdown",
   "id": "23752369-d98b-421a-a8b3-f59e7cd26926",
   "metadata": {},
   "source": [
    "### READ CSV FILE"
   ]
  },
  {
   "cell_type": "code",
   "execution_count": null,
   "id": "06305f9a-bb47-4344-ad96-5db44e253356",
   "metadata": {},
   "outputs": [],
   "source": [
    "#read csv files\n",
    "df=pd.read_csv('onlinefraud.csv')\n",
    "df.head()"
   ]
  },
  {
   "cell_type": "code",
   "execution_count": null,
   "id": "f9451be0-5573-4942-a256-9e091242c950",
   "metadata": {},
   "outputs": [],
   "source": [
    "df.shape"
   ]
  },
  {
   "cell_type": "code",
   "execution_count": null,
   "id": "9aae444b-991a-4ea9-820d-b880f2f813d3",
   "metadata": {},
   "outputs": [],
   "source": [
    " df.drop(['isFlaggedFraud'], axis=1, inplace=True)"
   ]
  },
  {
   "cell_type": "code",
   "execution_count": null,
   "id": "1534cf02-3c6e-4125-a23d-575ee05f965a",
   "metadata": {},
   "outputs": [],
   "source": [
    "df.shape"
   ]
  },
  {
   "cell_type": "code",
   "execution_count": null,
   "id": "5bba948a-55a8-4035-ac6d-2e2c2106b8cb",
   "metadata": {},
   "outputs": [],
   "source": [
    "df.info()"
   ]
  },
  {
   "cell_type": "code",
   "execution_count": null,
   "id": "2655283b-0474-49bd-a70f-c7152af5dfde",
   "metadata": {},
   "outputs": [],
   "source": [
    "df.describe()"
   ]
  },
  {
   "cell_type": "code",
   "execution_count": null,
   "id": "4b14ec83-a522-4a65-b7e5-3f7709815d42",
   "metadata": {},
   "outputs": [],
   "source": [
    "# no null values\n",
    "df.isnull().sum()"
   ]
  },
  {
   "cell_type": "code",
   "execution_count": null,
   "id": "4d62f972-c9e2-4d4b-a816-33ad822c9d04",
   "metadata": {},
   "outputs": [],
   "source": [
    "# Select only numeric columns before calculating correlation\n",
    "numeric_df = df.select_dtypes(include=['number'])\n",
    "correlation = numeric_df.corr()\n",
    "print(correlation)"
   ]
  },
  {
   "cell_type": "markdown",
   "id": "4de255c1-1f28-49d5-b40b-b2ff50a6d4b0",
   "metadata": {},
   "source": [
    "## DATA VISUALIZATION"
   ]
  },
  {
   "cell_type": "code",
   "execution_count": null,
   "id": "7433b297-d19e-4650-a8f7-cf25ec79d963",
   "metadata": {},
   "outputs": [],
   "source": [
    "sns.countplot(x='type',data=df)"
   ]
  },
  {
   "cell_type": "code",
   "execution_count": null,
   "id": "84055e7c-a1c9-41aa-8512-48bce4f596a2",
   "metadata": {},
   "outputs": [],
   "source": [
    "sns.barplot(x='type', y='amount', data=df)"
   ]
  },
  {
   "cell_type": "code",
   "execution_count": null,
   "id": "73b195b9-2265-4482-bb94-1a33268ee197",
   "metadata": {},
   "outputs": [],
   "source": [
    "df[\"isFraud\"].value_counts()"
   ]
  },
  {
   "cell_type": "code",
   "execution_count": null,
   "id": "3ef2ca7e-be64-4554-96fa-12730569909d",
   "metadata": {},
   "outputs": [],
   "source": [
    "df.loc[df[\"isFraud\"]==1,\"isFraud\"]= \"Fraud\"\n",
    "df.loc[df[\"isFraud\"]==0,\"isFraud\"]= \"Not Fraud\"\n",
    "df.head()"
   ]
  },
  {
   "cell_type": "code",
   "execution_count": null,
   "id": "8bf85388-ff71-433e-9aef-64e9ddc8a7d8",
   "metadata": {},
   "outputs": [],
   "source": [
    "sns.scatterplot(x='isFraud',y='newbalanceOrig',data=df)"
   ]
  },
  {
   "cell_type": "code",
   "execution_count": null,
   "id": "7d4bb631-a944-498e-9b76-dc5272d75968",
   "metadata": {},
   "outputs": [],
   "source": [
    "sns.scatterplot(x='amount',y='oldbalanceOrg',data=df)"
   ]
  },
  {
   "cell_type": "code",
   "execution_count": null,
   "id": "2a5a8f79-e73d-4881-9a5c-5f77c090ec6f",
   "metadata": {},
   "outputs": [],
   "source": [
    "sns.heatmap(correlation,annot=True)"
   ]
  },
  {
   "cell_type": "markdown",
   "id": "3f446fac-f408-4a16-9fbb-6c3460e3b57c",
   "metadata": {},
   "source": [
    "### DATA PREPROCESSING"
   ]
  },
  {
   "cell_type": "code",
   "execution_count": null,
   "id": "be678ff1-6e67-4359-b746-caaf47f64770",
   "metadata": {},
   "outputs": [],
   "source": [
    "df.columns"
   ]
  },
  {
   "cell_type": "code",
   "execution_count": null,
   "id": "eb18a4d1-995f-480c-9f44-afac47596f3e",
   "metadata": {},
   "outputs": [],
   "source": [
    "df.drop(['nameDest','nameOrig'],axis=1,inplace=True)"
   ]
  },
  {
   "cell_type": "code",
   "execution_count": null,
   "id": "6d9e9782-d0c7-45c4-93fd-2d1a0ef64502",
   "metadata": {},
   "outputs": [],
   "source": [
    "df.columns"
   ]
  },
  {
   "cell_type": "code",
   "execution_count": null,
   "id": "e68d779f-da34-463b-adb6-5d78bece72cd",
   "metadata": {},
   "outputs": [],
   "source": [
    "df.head()"
   ]
  },
  {
   "cell_type": "code",
   "execution_count": null,
   "id": "340e1ab0-7d29-4b74-81e6-ad1863d98d61",
   "metadata": {},
   "outputs": [],
   "source": [
    "from sklearn.preprocessing import LabelEncoder\n",
    "label_encoder = LabelEncoder()\n",
    "df['type'] = label_encoder.fit_transform(df['type'])\n",
    "df.head()"
   ]
  },
  {
   "cell_type": "code",
   "execution_count": null,
   "id": "a503b104-fa94-438a-b0d6-b1263a4fc436",
   "metadata": {},
   "outputs": [],
   "source": [
    "df[\"type\"].value_counts()"
   ]
  },
  {
   "cell_type": "code",
   "execution_count": null,
   "id": "ee139c7f-adb8-4c96-8fd9-b583ce8d2da3",
   "metadata": {},
   "outputs": [],
   "source": [
    "#dividing the dataset into dependent and independent y and x respectively\n",
    "x=df.drop([\"isFraud\"],axis=1)\n",
    "y=df[\"isFraud\"]"
   ]
  },
  {
   "cell_type": "code",
   "execution_count": null,
   "id": "314504bc-6ea4-4c70-ab92-a2498aba5fb4",
   "metadata": {},
   "outputs": [],
   "source": [
    "x.head()"
   ]
  },
  {
   "cell_type": "code",
   "execution_count": null,
   "id": "f711db83-39dd-4b96-bb51-3842ca971d60",
   "metadata": {},
   "outputs": [],
   "source": [
    "y.head()"
   ]
  },
  {
   "cell_type": "markdown",
   "id": "22d965da-376d-457a-a8aa-709fdd4b8427",
   "metadata": {},
   "source": [
    "### TRAIN TEST SPLIT"
   ]
  },
  {
   "cell_type": "code",
   "execution_count": null,
   "id": "91a50fae-20b2-4651-a7ee-54fedbee99fc",
   "metadata": {},
   "outputs": [],
   "source": [
    "from sklearn.model_selection import train_test_split\n",
    "x_train,x_test,y_train,y_test=train_test_split(x,y,test_size=0.2,random_state=42)"
   ]
  },
  {
   "cell_type": "code",
   "execution_count": null,
   "id": "699ef592-88d6-4e8a-9aab-3d4fd551338d",
   "metadata": {},
   "outputs": [],
   "source": [
    "#for model building\n",
    "from sklearn.linear_model import LogisticRegression\n",
    "from sklearn.ensemble import RandomForestClassifier\n",
    "from sklearn.tree import DecisionTreeClassifier\n",
    "from sklearn.metrics import accuracy_score,confusion_matrix,classification_report\n",
    "import pickle"
   ]
  },
  {
   "cell_type": "markdown",
   "id": "ea495bf3-ff19-466c-8d5c-0d9c34a7644a",
   "metadata": {},
   "source": [
    "### MODEL BUILDING"
   ]
  },
  {
   "cell_type": "markdown",
   "id": "244dc1a2-590d-4f77-ad64-f3e6e512002d",
   "metadata": {},
   "source": [
    "#### 1. LOGISTIC REGRESSION"
   ]
  },
  {
   "cell_type": "code",
   "execution_count": null,
   "id": "148c1eae-9220-4503-a563-909f088f04bd",
   "metadata": {},
   "outputs": [],
   "source": [
    "lr=LogisticRegression()\n",
    "lr.fit(x_train,y_train)"
   ]
  },
  {
   "cell_type": "code",
   "execution_count": null,
   "id": "aaeaf8a3-0250-4eea-96c0-b9cda3d26ad2",
   "metadata": {},
   "outputs": [],
   "source": [
    "lr.score(x_test,y_test)"
   ]
  },
  {
   "cell_type": "markdown",
   "id": "8394b225-30c5-40be-ab65-5722e315fa2c",
   "metadata": {},
   "source": [
    "#### 2. Decision Tree Classifier"
   ]
  },
  {
   "cell_type": "code",
   "execution_count": null,
   "id": "ca72a01d-4b5c-4d31-9ca9-aaeb93b49cd1",
   "metadata": {},
   "outputs": [],
   "source": [
    "dt=DecisionTreeClassifier()\n",
    "dt.fit(x_train,y_train)"
   ]
  },
  {
   "cell_type": "code",
   "execution_count": null,
   "id": "8297ac40-7ce5-47af-856a-3206e642f988",
   "metadata": {},
   "outputs": [],
   "source": [
    "dt.score(x_test,y_test)"
   ]
  },
  {
   "cell_type": "markdown",
   "id": "e3310646-0501-4330-a03e-36aa9f5ca614",
   "metadata": {},
   "source": [
    "#### 3. Random Forest Classifier"
   ]
  },
  {
   "cell_type": "code",
   "execution_count": null,
   "id": "3149c69a-3987-4894-8ed3-656a0fe6b2fc",
   "metadata": {},
   "outputs": [],
   "source": [
    "rfc=RandomForestClassifier()\n",
    "rfc.fit(x_train,y_train)"
   ]
  },
  {
   "cell_type": "code",
   "execution_count": null,
   "id": "852b9c9b-b2d4-4cb2-a768-dcd696b2d136",
   "metadata": {},
   "outputs": [],
   "source": [
    "rfc.score(x_test,y_test)"
   ]
  },
  {
   "cell_type": "markdown",
   "id": "f90de97e-5293-4337-bf52-c0acf7aa07a5",
   "metadata": {},
   "source": [
    "### MODEL ACCURACY"
   ]
  },
  {
   "cell_type": "code",
   "execution_count": null,
   "id": "64848d94-2259-40cc-b34c-5dabddd627c9",
   "metadata": {},
   "outputs": [],
   "source": [
    "print(\"Logistic Regression :\",lr.score(x_test,y_test) *100)\n",
    "print(\"Decision Tree Classifier :\",dt.score(x_test,y_test) *100)\n",
    "print(\"Random Forest Classifier :\",rfc.score(x_test,y_test) *100)"
   ]
  },
  {
   "cell_type": "code",
   "execution_count": null,
   "id": "86630303-effa-42cf-9cfe-d0d4e9115254",
   "metadata": {},
   "outputs": [],
   "source": [
    "dt.predict(x_test)"
   ]
  },
  {
   "cell_type": "markdown",
   "id": "a1d21e96-9f2a-4c83-aabd-90afe0fcf182",
   "metadata": {},
   "source": [
    "### PREDICTION"
   ]
  },
  {
   "cell_type": "code",
   "execution_count": null,
   "id": "b222674d-d49b-4f72-b59e-9acc45bf2f45",
   "metadata": {},
   "outputs": [],
   "source": [
    "features=np.array([[696,1,85002.52,85002.52,0,169,50]])\n",
    "dt.predict(features)"
   ]
  },
  {
   "cell_type": "markdown",
   "id": "d541808e-c939-4464-baa5-428bdf4bddfb",
   "metadata": {},
   "source": [
    "### SAVING THE MODEL"
   ]
  },
  {
   "cell_type": "code",
   "execution_count": null,
   "id": "3663ef5c-47ed-4cbd-89f2-e2b56d9dcc21",
   "metadata": {},
   "outputs": [],
   "source": [
    "pickle.dump(rfc,open('model.sav','wb'))"
   ]
  },
  {
   "cell_type": "code",
   "execution_count": null,
   "id": "e658ec13-811e-48f4-bf10-6c39357fe4be",
   "metadata": {},
   "outputs": [],
   "source": [
    "# loading the saved model\n",
    "loaded_model = pickle.load(open('model.sav', 'rb'))"
   ]
  },
  {
   "cell_type": "code",
   "execution_count": null,
   "id": "8b8f4903-c9b4-4b2f-9127-4e0f62302b6b",
   "metadata": {},
   "outputs": [],
   "source": []
  }
 ],
 "metadata": {
  "kernelspec": {
   "display_name": "Python 3 (ipykernel)",
   "language": "python",
   "name": "python3"
  },
  "language_info": {
   "codemirror_mode": {
    "name": "ipython",
    "version": 3
   },
   "file_extension": ".py",
   "mimetype": "text/x-python",
   "name": "python",
   "nbconvert_exporter": "python",
   "pygments_lexer": "ipython3",
   "version": "3.12.3"
  }
 },
 "nbformat": 4,
 "nbformat_minor": 5
}
